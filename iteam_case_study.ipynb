{
 "cells": [
  {
   "cell_type": "markdown",
   "metadata": {},
   "source": [
    "\n",
    "![img](https://www.pittsburghpa.gov/files/assets/city/v/1/ip/images/20623_logos-pdec.png)\n",
    "\n",
    "# Allegheny County, Pennsylvania \n",
    "## i-team Data Analytics Manager exercise\n",
    "\n",
    "**TASK** : to conduct a quick baselining of social vulnerability factors in your city. Using the attached dataset of select demographic and socioeconomic variables derived from the CDC/ATSDR’s social vulnerability index, conduct an analysis of the census tracts within your city and present key insights basedon your analysis.<br>\n",
    "For this assignment, limit the analysis to the census tracts within one of your city’s counties (e.g., all census tracts in Kings County), as identified by the ‘State’ and ‘County’ fields in the dataset. You are welcome to combine the provided data with additional data if helpful for your analysis."
   ]
  },
  {
   "cell_type": "markdown",
   "metadata": {},
   "source": [
    "### Summary\n",
    "Though the analysis provided data at the census tract level, I focused my analysis on the municipal-level data. While census tracts provide a level of granularity, neighborhoods and municipalities are more meaningful to residents and end-users. \n",
    "\n",
    "### Methods:\n",
    " - Filtering on Allegheny County reduced the data to 380 census tracts\n",
    " - Used University of Pittsburgh's datasets of [Allegheny County]('https://pitt.libguides.com/uscensus/alleghenycotracts') and [City of Pittsburgh]('https://pitt.libguides.com/pghcensus/pghcensustracts') to map census tracts to municipalities within Allegheny County.\n",
    " - Allegheny County contains 120 municipalities.\n",
    " - Four census tracts were omitted from by the merge, due to being dropped from the 2020 census tract definitions.\n",
    " - Discovered that a handful of census tracts map to multiple municipalties. Those municipalities were combined for the sake of this analysis.\n",
    "\n",
    "### Data (at the tract level):\n",
    "The numeric variables in the dataset were:\n",
    " - Population\n",
    " - Housing Units\n",
    " - Households\n",
    " - Population living at or below the 150% poverty line\n",
    " - BIPOC Residents\n",
    " - Households with no vehicle\n",
    " - Percent of Overcrowded Housing Units\n",
    " - People 25+ w/o high school diploma\n",
    " - used the % overcrowded to calculate the number overcrowded housing units\n",
    "\n",
    "### Aggregation (at the municiaplity level)\n",
    " - Aggregated(sum) each column at the municipality level \n",
    " - On the municipality level, calculated:\n",
    "    - Individual level:\n",
    "        - Percent of population living at or below 150% the poverty line\n",
    "        - Percent of population who identify as BIPOC\n",
    "        - Percent of population over 25 without a high school diploma\n",
    "    - Household level\n",
    "        - Ratio of housing units to households\n",
    "        - Percent of households w/o vehicle\n",
    "        - Percent of households with overcrowding\n"
   ]
  },
  {
   "cell_type": "markdown",
   "metadata": {},
   "source": [
    "\n",
    "#### The variance between municipalities\n",
    "\n",
    "All the variables except 'Ratio of housing units to households' stay under 60% of the population. The ratio of housing units to households can be interpretted multiple ways, it shows there is more housing available than households in that municipality. The cause is uncertain, homelessness rates are not included in the dataset. Is the local housing market out of price range? Or does the condition of housing not meet the requirements for habitation?\n",
    "\n",
    "![boxplot](./img/boxplot_dist2.png)\n",
    "\n",
    "In the \"average\" municipality in Allegheny County:\n",
    " - 17% of the population lives at 150% if the poverty level\n",
    " - 19% of the population identifies as a BIPOC\n",
    " - 3.7% of the population is over 25 is without a diploma\n",
    " - There is 10% more housing than needed\n",
    " - 11% of the households are without a car\n",
    " - But under 1% of households report being overcrowded\n",
    "\n",
    "The mean would not be the best metric, as most of these distributions have a long right tail. The median would be a better indicator, as shown in descriptive summary.\n",
    "\n",
    "![descriptive](./img/allegheny_desc_new2.png)"
   ]
  },
  {
   "cell_type": "markdown",
   "metadata": {},
   "source": []
  },
  {
   "cell_type": "markdown",
   "metadata": {},
   "source": [
    "#### Vulnerability Indicators are highly correlated\n",
    "\n",
    "The relationships between these indicators is uniformly high, except the percent reporting overcrowding(see correlation matrix). Since the Percent Living under the 150% poverty level has the highest across the other variables, I chose to use percent under 150% the poverty level as a proxy for the general state of the municipality.\n",
    "\n",
    "![correlation matrix](./img/corr_matrix2.png)\n"
   ]
  },
  {
   "cell_type": "markdown",
   "metadata": {},
   "source": []
  },
  {
   "cell_type": "markdown",
   "metadata": {},
   "source": []
  }
 ],
 "metadata": {
  "language_info": {
   "name": "python"
  }
 },
 "nbformat": 4,
 "nbformat_minor": 2
}
